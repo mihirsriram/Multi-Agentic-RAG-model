{
 "cells": [
  {
   "cell_type": "code",
   "execution_count": null,
   "metadata": {},
   "outputs": [],
   "source": [
    "from langchain_groq import ChatGroq\n",
    "\n",
    "\n",
    "# Initialize the ChatGroq client\n",
    "client = ChatGroq(api_key=\"xxx\")  # Replace with your actual API key\n",
    "\n",
    "# Initialize Llama\n",
    "llama = client.llama(model_name=\"llama-3.1-70b-versatile\")  # Replace with your model name\n",
    "\n",
    "# Example function to generate insights\n",
    "def generate_llama_insights(prompt):\n",
    "    response = llama.chat(prompt)\n",
    "    return response['text'].strip()\n",
    "\n",
    "# Test the Llama model with a simple prompt\n",
    "prompt = \"Explain the relationship between inflation and unemployment based on historical economic data.\"\n",
    "insight = generate_llama_insights(prompt)\n",
    "print(insight)\n"
   ]
  },
  {
   "cell_type": "code",
   "execution_count": null,
   "metadata": {},
   "outputs": [],
   "source": [
    "from langchain_groq import ChatGroq\n",
    "\n",
    "# Initialize the ChatGroq client with your API key\n",
    "client = ChatGroq(api_key=\"xx\")\n",
    "\n",
    "# Example function to generate insights\n",
    "def generate_llama_insights(prompt):\n",
    "    # Use the chat method directly from the client\n",
    "    response = client.chat(prompt, model=\"llama-3.1-70b-versatile\")  # Specify the model in the chat method\n",
    "    return response['text'].strip()\n",
    "\n",
    "# Test the Llama model with a simple prompt\n",
    "prompt = \"Explain the relationship between inflation and unemployment based on historical economic data.\"\n",
    "insight = generate_llama_insights(prompt)\n",
    "print(insight)\n"
   ]
  }
 ],
 "metadata": {
  "kernelspec": {
   "display_name": "env",
   "language": "python",
   "name": "python3"
  },
  "language_info": {
   "codemirror_mode": {
    "name": "ipython",
    "version": 3
   },
   "file_extension": ".py",
   "mimetype": "text/x-python",
   "name": "python",
   "nbconvert_exporter": "python",
   "pygments_lexer": "ipython3",
   "version": "3.10.11"
  }
 },
 "nbformat": 4,
 "nbformat_minor": 2
}
